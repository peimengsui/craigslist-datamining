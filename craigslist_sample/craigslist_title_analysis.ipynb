{
 "cells": [
  {
   "cell_type": "code",
   "execution_count": 25,
   "metadata": {
    "collapsed": false
   },
   "outputs": [
    {
     "name": "stdout",
     "output_type": "stream",
     "text": [
      "Using matplotlib backend: Qt4Agg\n"
     ]
    }
   ],
   "source": [
    "_author_ = \"Peimeng Sui\"\n",
    "import selenium\n",
    "import time,re,json,numpy as np\n",
    "import pandas as pd\n",
    "from collections import defaultdict, Counter\n",
    "import matplotlib.pyplot as plt\n",
    "from selenium import webdriver\n",
    "from bs4 import BeautifulSoup\n",
    "import urllib\n",
    "import pdb\n",
    "import foursquare\n",
    "from selenium import webdriver\n",
    "from selenium.webdriver.common.by import By\n",
    "from selenium.webdriver.support.ui import WebDriverWait\n",
    "from selenium.webdriver.support import expected_conditions as EC\n",
    "import glob\n",
    "%matplotlib\n",
    "from textblob import TextBlob\n",
    "import math\n",
    "\n",
    "from sklearn.feature_extraction.text import CountVectorizer\n",
    "from sklearn.preprocessing import LabelEncoder\n",
    "from sklearn.svm import LinearSVC\n",
    "from sklearn.cross_validation import StratifiedShuffleSplit\n",
    "from sklearn.feature_extraction.stop_words import ENGLISH_STOP_WORDS\n",
    "import string\n",
    "import pandas as pd\n",
    "from matplotlib import pyplot as plt\n",
    "import matplotlib as mpl\n",
    "import numpy as np\n",
    "%matplotlib inline\n",
    "import re\n",
    "import os"
   ]
  },
  {
   "cell_type": "code",
   "execution_count": 26,
   "metadata": {
    "collapsed": true
   },
   "outputs": [],
   "source": [
    "path ='/home/peimengsui/Documents/SpaceJam/craigslist/craigslist_sample' # use your path\n",
    "allFiles = glob.glob(path + \"/*.csv\")\n",
    "frame = pd.DataFrame()\n",
    "list_ = []\n",
    "for file_ in allFiles:\n",
    "    df = pd.read_csv(file_)\n",
    "    head, tail = os.path.split(file_)\n",
    "    l = re.split('[\\_\\.]', tail)\n",
    "    df['loc'] = l[0]\n",
    "    df['cat'] = l[1]\n",
    "    list_.append(df)\n",
    "frame = pd.concat(list_)"
   ]
  },
  {
   "cell_type": "code",
   "execution_count": 27,
   "metadata": {
    "collapsed": true
   },
   "outputs": [],
   "source": [
    "word_data = frame.dropna(subset=[\"title\"])"
   ]
  },
  {
   "cell_type": "code",
   "execution_count": 28,
   "metadata": {
    "collapsed": false
   },
   "outputs": [
    {
     "name": "stderr",
     "output_type": "stream",
     "text": [
      "/home/peimengsui/anaconda3/lib/python3.5/site-packages/ipykernel/__main__.py:4: SettingWithCopyWarning: \n",
      "A value is trying to be set on a copy of a slice from a DataFrame.\n",
      "Try using .loc[row_indexer,col_indexer] = value instead\n",
      "\n",
      "See the caveats in the documentation: http://pandas.pydata.org/pandas-docs/stable/indexing.html#indexing-view-versus-copy\n"
     ]
    }
   ],
   "source": [
    "# Remove special characters\n",
    "rem = string.digits + '/\\-+.'\n",
    "rem_chars = lambda a: ''.join([i for i in a if i not in rem])\n",
    "word_data['title'] = word_data['title'].apply(rem_chars)"
   ]
  },
  {
   "cell_type": "code",
   "execution_count": 29,
   "metadata": {
    "collapsed": true
   },
   "outputs": [],
   "source": [
    "# loc_words = {'eby': ['antioch', 'berkeley', 'dublin', 'fremont', 'rockridge',\n",
    "#                      'livermore', 'mercer', 'ramon'],\n",
    "#              'nby': ['sausalito', 'marin', 'larkspur', 'novato', 'petaluma', 'bennett', \n",
    "#                      'tiburon', 'sonoma', 'anselmo', 'healdsburg', 'rafael'],\n",
    "#              'sby': ['campbell', 'clara', 'cupertino', 'jose'],\n",
    "#              'scz': ['aptos', 'capitola', 'cruz', 'felton', 'scotts',\n",
    "#                      'seabright', 'soquel', 'westside', 'ucsc'],\n",
    "#              'sfc': ['miraloma', 'soma', 'usf', 'ashbury', 'marina',\n",
    "#                      'mission', 'noe']}\n",
    "\n",
    "# # We can append these to sklearn's collection of english \"stop\" words\n",
    "# rand_words = ['th', 'xs', 'x', 'bd', 'ok', 'bdr']\n",
    "# stop_words = [i for j in loc_words.values() for i in j] + rand_words\n",
    "# stop_words = ENGLISH_STOP_WORDS.union(stop_words)\n",
    "stop_words = ENGLISH_STOP_WORDS"
   ]
  },
  {
   "cell_type": "code",
   "execution_count": 30,
   "metadata": {
    "collapsed": false
   },
   "outputs": [
    {
     "data": {
      "text/plain": [
       "nyc    9598\n",
       "sf     8763\n",
       "Name: loc, dtype: int64"
      ]
     },
     "execution_count": 30,
     "metadata": {},
     "output_type": "execute_result"
    }
   ],
   "source": [
    "word_data['loc'].value_counts()"
   ]
  },
  {
   "cell_type": "code",
   "execution_count": 31,
   "metadata": {
    "collapsed": false
   },
   "outputs": [
    {
     "data": {
      "text/plain": [
       "for          4800\n",
       "job          4800\n",
       "housing      4798\n",
       "community    3963\n",
       "Name: cat, dtype: int64"
      ]
     },
     "execution_count": 31,
     "metadata": {},
     "output_type": "execute_result"
    }
   ],
   "source": [
    "word_data['cat'].value_counts()"
   ]
  },
  {
   "cell_type": "code",
   "execution_count": 43,
   "metadata": {
    "collapsed": false
   },
   "outputs": [
    {
     "data": {
      "text/plain": [
       "<matplotlib.text.Text at 0x7fee9fd80400>"
      ]
     },
     "execution_count": 43,
     "metadata": {},
     "output_type": "execute_result"
    },
    {
     "data": {
      "image/png": "[encoded data removed]",
      "text/plain": [
       "<matplotlib.figure.Figure at 0x7feea300cbe0>"
      ]
     },
     "metadata": {},
     "output_type": "display_data"
    }
   ],
   "source": [
    "vec = CountVectorizer(max_df=.6, stop_words=stop_words)\n",
    "vec_tar = LabelEncoder()\n",
    "\n",
    "counts = vec.fit_transform(word_data['title'])\n",
    "targets = vec_tar.fit_transform(word_data['cat'])\n",
    "plt.plot(counts[:3].toarray().T)\n",
    "plt.ylim([-1, 2])\n",
    "plt.title('Each row is a post, with 1s representing presence of a word in that post')"
   ]
  },
  {
   "cell_type": "code",
   "execution_count": 46,
   "metadata": {
    "collapsed": true
   },
   "outputs": [],
   "source": [
    "top_words = {}\n",
    "for itrg in np.unique(targets):\n",
    "    loc = vec_tar.classes_[itrg]\n",
    "    # Pull only the data points assigned to the current loction\n",
    "    icounts = counts[targets == itrg, :].sum(0).squeeze()\n",
    "    \n",
    "    # Which counts had at least five occurrences\n",
    "    msk_top_words = icounts > 100\n",
    "    \n",
    "    # The inverse transform turns the vectors back into actual words\n",
    "    top_words[loc] = vec.inverse_transform(msk_top_words)[0]"
   ]
  },
  {
   "cell_type": "code",
   "execution_count": 47,
   "metadata": {
    "collapsed": false
   },
   "outputs": [
    {
     "data": {
      "text/plain": [
       "{'community': array(['available', 'care', 'child', 'game', 'home', 'looking', 'midtown',\n",
       "        'music', 'nanny', 'needed', 'nyc', 'poker', 'research', 'studio',\n",
       "        'study'], \n",
       "       dtype='<U65'),\n",
       " 'for': array(['gb', 'li', 'new', 'rims', 'sale', 'size', 'table', 'vintage'], \n",
       "       dtype='<U65'),\n",
       " 'housing': array(['amazing', 'apartment', 'apt', 'available', 'ave', 'bath',\n",
       "        'beautiful', 'bed', 'bedroom', 'br', 'brand', 'building', 'condo',\n",
       "        'district', 'family', 'fee', 'floor', 'free', 'furnished', 'great',\n",
       "        'hill', 'home', 'house', 'huge', 'large', 'location', 'loft',\n",
       "        'luxury', 'medical', 'month', 'new', 'office', 'parking', 'prime',\n",
       "        'private', 'remodeled', 'renovated', 'rent', 'retail', 'room',\n",
       "        'rooms', 'sf', 'space', 'spacious', 'st', 'street', 'studio',\n",
       "        'sunny', 'th', 'views'], \n",
       "       dtype='<U65'),\n",
       " 'job': array(['amazon', 'assistant', 'associate', 'cooks', 'delivery', 'driver',\n",
       "        'drivers', 'earn', 'experienced', 'food', 'hiring', 'hour', 'hr',\n",
       "        'line', 'make', 'manager', 'needed', 'new', 'office', 'paid', 'pt',\n",
       "        'restaurant', 'sales', 'san', 'seeking', 'service', 'time',\n",
       "        'wanted', 'week'], \n",
       "       dtype='<U65')}"
      ]
     },
     "execution_count": 47,
     "metadata": {},
     "output_type": "execute_result"
    }
   ],
   "source": [
    "top_words"
   ]
  },
  {
   "cell_type": "code",
   "execution_count": 48,
   "metadata": {
    "collapsed": false
   },
   "outputs": [
    {
     "name": "stdout",
     "output_type": "stream",
     "text": [
      "for: ['gb', 'li', 'rims', 'sale', 'size', 'table', 'vintage']\n",
      "\n",
      "---\n",
      "\n",
      "housing: ['amazing', 'apartment', 'apt', 'ave', 'bath', 'beautiful', 'bed', 'bedroom', 'br', 'brand', 'building', 'condo', 'district', 'family', 'fee', 'floor', 'free', 'furnished', 'great', 'hill', 'house', 'huge', 'large', 'location', 'loft', 'luxury', 'medical', 'month', 'parking', 'prime', 'private', 'remodeled', 'renovated', 'rent', 'retail', 'room', 'rooms', 'sf', 'space', 'spacious', 'st', 'street', 'sunny', 'th', 'views']\n",
      "\n",
      "---\n",
      "\n",
      "community: ['care', 'child', 'game', 'looking', 'midtown', 'music', 'nanny', 'nyc', 'poker', 'research', 'study']\n",
      "\n",
      "---\n",
      "\n",
      "job: ['amazon', 'assistant', 'associate', 'cooks', 'delivery', 'driver', 'drivers', 'earn', 'experienced', 'food', 'hiring', 'hour', 'hr', 'line', 'make', 'manager', 'paid', 'pt', 'restaurant', 'sales', 'san', 'seeking', 'service', 'time', 'wanted', 'week']\n",
      "\n",
      "---\n",
      "\n"
     ]
    }
   ],
   "source": [
    "unique_words = {}\n",
    "for loc, words in top_words.items():\n",
    "    others = top_words.copy()\n",
    "    others.pop(loc)\n",
    "    unique_words[loc] = [wrd for wrd in top_words[loc]\n",
    "                         if wrd not in np.hstack(others.values())]\n",
    "for loc, words in unique_words.items():\n",
    "    print('{0}: {1}\\n\\n---\\n'.format(loc, words))"
   ]
  },
  {
   "cell_type": "code",
   "execution_count": null,
   "metadata": {
    "collapsed": true
   },
   "outputs": [],
   "source": []
  }
 ],
 "metadata": {
  "anaconda-cloud": {},
  "kernelspec": {
   "display_name": "Python [Root]",
   "language": "python",
   "name": "Python [Root]"
  },
  "language_info": {
   "codemirror_mode": {
    "name": "ipython",
    "version": 3
   },
   "file_extension": ".py",
   "mimetype": "text/x-python",
   "name": "python",
   "nbconvert_exporter": "python",
   "pygments_lexer": "ipython3",
   "version": "3.5.2"
  }
 },
 "nbformat": 4,
 "nbformat_minor": 0
}
